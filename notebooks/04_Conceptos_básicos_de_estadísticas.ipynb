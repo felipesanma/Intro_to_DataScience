{
 "cells": [
  {
   "cell_type": "markdown",
   "metadata": {},
   "source": [
    "# Fundamentos de estadística\n",
    "\n",
    "Como buen cientista de datos, vamos a repasar la teoría estadística que necesitamos como base de apoyo en nuestros análisis y construcción de modelos.\n",
    "\n"
   ]
  },
  {
   "cell_type": "markdown",
   "metadata": {},
   "source": [
    "<img src=\"Estadisticas_bases.PNG\">"
   ]
  },
  {
   "cell_type": "code",
   "execution_count": 1,
   "metadata": {},
   "outputs": [],
   "source": [
    "# Utilizamos las librerías para ello\n",
    "\n",
    "import pandas as pd\n",
    "import numpy as np\n"
   ]
  },
  {
   "cell_type": "markdown",
   "metadata": {},
   "source": [
    "## 1. Medidas de centralización\n",
    "\n",
    "Nos sirve para ver cómo se sitúan los datos. Son la media, mediana, percentiles y moda.\n"
   ]
  },
  {
   "cell_type": "code",
   "execution_count": 2,
   "metadata": {},
   "outputs": [],
   "source": [
    "# Generamos una lista de números aleatorios y revisaremos sus medidas de centralización\n",
    "\n",
    "import random # Módulo para generar números aleatorios\n",
    "n = 10000 # Muestras\n",
    "m = 1000000 # Límite superior del conjunto\n",
    "rango = range(m) # Rango de números para hacer la selección, en este caso del 0 a m\n",
    "A = random.sample(rango, n) # 'A' es el conjunto de datos numéricos aleatorios, de tamaño n\n",
    "\n"
   ]
  },
  {
   "cell_type": "code",
   "execution_count": 3,
   "metadata": {},
   "outputs": [
    {
     "data": {
      "text/plain": [
       "496113.7417"
      ]
     },
     "execution_count": 3,
     "metadata": {},
     "output_type": "execute_result"
    }
   ],
   "source": [
    "# Promedio (media)\n",
    "np.mean(A)"
   ]
  },
  {
   "cell_type": "code",
   "execution_count": 4,
   "metadata": {},
   "outputs": [
    {
     "data": {
      "text/plain": [
       "494419.0"
      ]
     },
     "execution_count": 4,
     "metadata": {},
     "output_type": "execute_result"
    }
   ],
   "source": [
    "# Mediana\n",
    "np.median(A)"
   ]
  },
  {
   "cell_type": "code",
   "execution_count": 5,
   "metadata": {},
   "outputs": [
    {
     "data": {
      "text/plain": [
       "ModeResult(mode=array([222]), count=array([1]))"
      ]
     },
     "execution_count": 5,
     "metadata": {},
     "output_type": "execute_result"
    }
   ],
   "source": [
    "# Para la moda, utilizaremos otra librería\n",
    "\n",
    "from scipy import stats\n",
    "\n",
    "stats.mode(A)"
   ]
  },
  {
   "cell_type": "code",
   "execution_count": 6,
   "metadata": {},
   "outputs": [
    {
     "data": {
      "text/plain": [
       "239168.75"
      ]
     },
     "execution_count": 6,
     "metadata": {},
     "output_type": "execute_result"
    }
   ],
   "source": [
    "# Percentil 25\n",
    "np.percentile(A, 25)\n"
   ]
  },
  {
   "cell_type": "markdown",
   "metadata": {},
   "source": [
    "## 2. Medidas de dispersión\n",
    "\n",
    "La varianza y desviación típica, nos indica si los valores se desplazan mucho o poco con respecto de la media.\n",
    "\n",
    "La *varianza* es como se aleja cada valor de la media\n",
    " * La varianza eleva los valores al cuadradonos introduce en una nueva dimensión.\n",
    " * Puede no tener sentido.\n",
    " \n",
    "La *desviación típica* es la raíz cuadrada de la varianza. \n",
    " * Con la desviación típica volvemos a la dimensión original.\n",
    "\n",
    "*Coeficiente de variación*: nos mide la variabilidad relativa entre la desviación típica entre la media."
   ]
  },
  {
   "cell_type": "code",
   "execution_count": 7,
   "metadata": {},
   "outputs": [
    {
     "data": {
      "text/plain": [
       "84260856060.67038"
      ]
     },
     "execution_count": 7,
     "metadata": {},
     "output_type": "execute_result"
    }
   ],
   "source": [
    "# Varianza\n",
    "\n",
    "np.var(A)"
   ]
  },
  {
   "cell_type": "code",
   "execution_count": 8,
   "metadata": {},
   "outputs": [
    {
     "data": {
      "text/plain": [
       "290277.2055478528"
      ]
     },
     "execution_count": 8,
     "metadata": {},
     "output_type": "execute_result"
    }
   ],
   "source": [
    "# Desviación típica (estándar)\n",
    "\n",
    "np.std(A)"
   ]
  },
  {
   "cell_type": "code",
   "execution_count": 9,
   "metadata": {},
   "outputs": [
    {
     "data": {
      "text/plain": [
       "58.51021270912173"
      ]
     },
     "execution_count": 9,
     "metadata": {},
     "output_type": "execute_result"
    }
   ],
   "source": [
    "# coeficiente de variacion std/mean*100\n",
    "# variabilidad relativa entre la media y la std, si hay mucha variabilidad será grande el coeficiente.\n",
    "\n",
    "np.std(A)/np.mean(A)*100\n"
   ]
  },
  {
   "cell_type": "markdown",
   "metadata": {},
   "source": [
    "## 3. Medidas de asimetría\n",
    "\n",
    "Momento de orden r, respecto a la media. El momento de orden r. son los momentos de distribución respecto a la media.\n",
    "\n",
    "3.1 Asimetría de Fisher\n",
    "* Si el coeficiente es = 0; Significa que vuestra función es perfectamente simetríca, se distribuye igual, por ejemplo la distribución normal. Raro es que salga cero\n",
    "\n",
    "* Si el coeficiente es >0; Significa que cuánto más positivo es este valor más desplazada está la distribución hacía la izquierda, de modo que tenemos una asimetría positiva, nos queda la media muy por encima de la distribución.\n",
    "\n",
    "* Si el el coeficiente es <0; Significa que cuánto más negativo es este valor más desplazado está la distribución hacía la derecha, de modo que tenemos una asimetría negativa, nos queda la media muy por debajo de la distribución.\n"
   ]
  },
  {
   "cell_type": "code",
   "execution_count": 10,
   "metadata": {},
   "outputs": [
    {
     "data": {
      "text/plain": [
       "0.01676462523284354"
      ]
     },
     "execution_count": 10,
     "metadata": {},
     "output_type": "execute_result"
    }
   ],
   "source": [
    "import scipy.stats as sp # Para modelos de asimetría\n",
    "\n",
    "asimetria = sp.skew(A)\n",
    "asimetria"
   ]
  },
  {
   "cell_type": "markdown",
   "metadata": {},
   "source": [
    "3.2 Curtosis\n",
    "\n",
    "* igual 0 Mesocúrtica: Distribución perfecta, asemejada a la distribución normal en forma, no en valores. Está compensado tanto el centro como las colas.\n",
    "\n",
    "* mayor a 0 Leptocúrtica: Distribución donde se le concentran mucho los datos en el valor central, y apenas tiene cola.\n",
    "\n",
    "* menor a 0 Platicúrtica: Distribución donde hay pocos valores que se concentren respecto al valor central (media) y hay muchos que aparecen hacia las colas, se concentran más en los laterales. Existe valor central, pero también hay mucha presencia de colas directamente en la distribución de nuestros datos.\n"
   ]
  },
  {
   "cell_type": "code",
   "execution_count": 11,
   "metadata": {},
   "outputs": [
    {
     "data": {
      "text/plain": [
       "-1.2201063205820903"
      ]
     },
     "execution_count": 11,
     "metadata": {},
     "output_type": "execute_result"
    }
   ],
   "source": [
    "curtosis=sp.kurtosis(A)\n",
    "curtosis\n"
   ]
  },
  {
   "cell_type": "markdown",
   "metadata": {},
   "source": [
    "## 4. Muestreo aleatorio\n",
    "\n",
    "<img src=\"muestreo.PNG\">"
   ]
  },
  {
   "cell_type": "markdown",
   "metadata": {},
   "source": [
    "# 5. Contrastes de hipótesis\n",
    "\n",
    "<img src=\"Cnotraste_hipotesis.PNG\">"
   ]
  },
  {
   "cell_type": "markdown",
   "metadata": {},
   "source": [
    "$H_0$ es lo que defenderemos a morir! En caso de que no quede más remedio, nos quedaremos con $H_1$\n",
    "\n",
    "TCL = Teorema central del Límite\n",
    "\n",
    "<img src=\"Casos_hipotesis.PNG\">"
   ]
  },
  {
   "cell_type": "markdown",
   "metadata": {},
   "source": [
    "¿Y cómo aceptamos/rechazamos la hipótesis nula ($H_0$)?\n",
    "\n",
    "<img src=\"Rechazo_hipotesis.PNG\">"
   ]
  },
  {
   "cell_type": "markdown",
   "metadata": {},
   "source": [
    "En este caso tenemos el gráfico de una distribución de una variable aleatoria $X$, con $Z_1$ y $Z_2$ dos estadísticos correspondientes a dos valores de la variable aleatoria en cuestión y llamemos $P_1$ y $P_2$ a las probabilidades encerradas por debajo de la curva justo a la izquierda. Entonces la probabilidad de que la variable aleatoria tome un valor menor a $Z_1$ es $P_1$, en notación matemática sería:\n",
    "\n",
    "$$P(X < Z_1) = P_1 $$\n",
    "\n",
    "Y de forma complementaria\n",
    "\n",
    "$$P(X > Z_1) = 1- P_1 $$\n",
    "\n",
    "Con esto podemos definir niveles de confianza, pero espera, ¿que son los niveles de confianza? Son los valores límites que estamos dispuestos a considerar para defender una hipótesis nula $H_0$ como verdadera, dicho de otra forma, *es la probabilidad con la que nosotros estamos seguros de que la variable aleatoria va a caer ahí dentro*\n",
    "\n",
    "<img src=\"Intervalos_confianza.PNG\">\n",
    "\n",
    "Oook, pero y ¿qué es eso del nivel de significación? Es básicamente la representación de la probabilidad de que la hipótesis nula $H_0$ **no** sea cierta, y se representa con $\\alpha$. Simplemente es el opuesto al nivel de confianza.\n",
    "\n",
    "¿Y eso del $p_{valor}$? Es la probabilidad de que la función de distribución supere el valor del estadístico de contraste (que viene de un z-test o t-test), es la probabilidad máxima de caer fuera del estadístico de contraste.    \n",
    "\n",
    "<img src=\"p_valor.PNG\">\n",
    "\n",
    "\n",
    "\n",
    "Y entonces, ¿cuando aceptamos la hipótesis nula $H_0$?\n",
    "\n",
    "\n",
    "\n",
    "<img src=\"Conclusion_hipotesis.PNG\">\n",
    "\n",
    "Entonces, el resumen del contraste de hipótesis es:\n",
    "\n",
    "1. Definir hipótesis nula ($\\mu_0$) y alternativa uni o bilateral.\n",
    "2. Tomar una muestra aletoria de tamaño $n$ y calcular el valor del estimador (promedio, proporción, etc..)\n",
    "3. Calcular el estadístico de contraste $Z-valor$ o $t-valor$.\n",
    "4. Calcular el $p_{valor}$ asociado\n",
    "5. Comparar $p_{valor}$ y nivel de significacion y decidir.\n",
    "\n",
    "¿Y un ejemplo práctico de esto? Vamos por ello!\n",
    "\n",
    "Ejemplo: Just Eat\n",
    "\n",
    "El pizzero de Just-Eat **afirma** que trae la comida en un **tiempo promedio** inferior a **20 minutos** con una **desviación típica de 3**.\n",
    "\n",
    "Como sospechamos que es falso, tomamos 64 de las entregas de la última semana y obtenemos una media de 21.2 minutos.\n",
    "\n",
    "¿Podemos aceptar su afirmación a un nivel de confianza del 95%?\n",
    "\n",
    "Resolvamos:\n",
    "\n",
    "**1. Identificar hipótesis nula y alternativa**\n",
    "\n",
    "En este caso sería: \n",
    "\n",
    "$H_0$: tiempo promedio inferior a 20 minutos -> $\\mu$ <= 20\n",
    "\n",
    "La hipótesis alternativa sería el complemento:\n",
    "\n",
    "$H_1$: tiempo promedio superior a 20 minutos -> $\\mu$ > 20\n",
    "\n",
    "Además el enunciado me entrega el valor de la desviación típica (estándar): $\\sigma$ = 3\n",
    "\n",
    "**2. Tomar una muestra aletoria de tamaño $n$ y calcular el valor del estimador**\n",
    "\n",
    "En este caso queremos estimar el promedio, y para ello se utilizó una muestra de 64 entregas, obteniendo un valor promedio de 21.2 minutos, entonces:\n",
    "\n",
    "$\\bar{X} = 21.2$ y $n = 64$\n",
    "\n",
    "\n",
    "**3. Calcular el estadístico de contraste $Z-valor$ o $t-valor$**\n",
    "\n",
    "Como el valor de desviación estándar es conocido, utilizamos el estadístico de prueba $Z_{valor}$. Sabemos que:\n",
    "\n",
    "$$ Z = \\frac{\\bar{X} - \\mu}{\\frac{\\sigma}{\\sqrt{n}}}$$\n",
    "\n",
    "Reemplazamos:\n",
    "\n",
    "$$ Z = \\frac{21.2 - 20}{\\frac{3}{\\sqrt{64}}} = 3.2$$\n",
    "\n",
    "**4. Calcular el $p_{valor}$ asociado**\n",
    "\n",
    "Sabemos que: $$p = P(Z>3.2) = 1 - P(Z<3.2)$$\n",
    "\n",
    "Aquí podemos utilizar alguna tabla de la distribución normal estandarizada, o bien generar nosotros el valor con la librería **scipy**\n"
   ]
  },
  {
   "cell_type": "code",
   "execution_count": 31,
   "metadata": {},
   "outputs": [
    {
     "data": {
      "text/plain": [
       "0.9993128620620841"
      ]
     },
     "execution_count": 31,
     "metadata": {},
     "output_type": "execute_result"
    }
   ],
   "source": [
    "from scipy.stats import norm\n",
    "\n",
    "norm.cdf(3.2)"
   ]
  },
  {
   "cell_type": "markdown",
   "metadata": {},
   "source": [
    "Entonces el valor p sería:\n",
    "\n",
    "$$p = 1 - 0.999 = 0.001$$\n",
    "$$p = 0.001 $$\n",
    "\n",
    "**5. Comparar $p_{valor}$ y nivel de significacion y decidir.**\n",
    "\n",
    "En este caso el nivel de confianza es del 95%, por lo tanto nuestreo nivel de significancia es el complemento $\\alpha = 0.05$\n",
    "\n",
    "Y como se cumple que: $$0.001 < 0.05 \\Rightarrow p_{valor} < \\alpha$$\n",
    "\n",
    "Por lo tanto, podemos llamar al pizzero de Just-Eat y comentarle que tenemos evidencia suficiente para rechazar su afirmación (rechazar la hipotesis nula) y que en definitiva se demora más de 20 minutos en entregar sus pizzas.\n",
    "\n",
    "¿Genial no?\n"
   ]
  },
  {
   "cell_type": "markdown",
   "metadata": {},
   "source": [
    "## 6. Correlación\n",
    "\n",
    "De forma teórica, presentamos la correlación de Pearson, luego lo haremos de forma práctica\n",
    "\n",
    "<img src=\"Corr_Pearson.PNG\">"
   ]
  },
  {
   "cell_type": "code",
   "execution_count": 35,
   "metadata": {},
   "outputs": [
    {
     "data": {
      "text/html": [
       "<div>\n",
       "<style scoped>\n",
       "    .dataframe tbody tr th:only-of-type {\n",
       "        vertical-align: middle;\n",
       "    }\n",
       "\n",
       "    .dataframe tbody tr th {\n",
       "        vertical-align: top;\n",
       "    }\n",
       "\n",
       "    .dataframe thead th {\n",
       "        text-align: right;\n",
       "    }\n",
       "</style>\n",
       "<table border=\"1\" class=\"dataframe\">\n",
       "  <thead>\n",
       "    <tr style=\"text-align: right;\">\n",
       "      <th></th>\n",
       "      <th>TV</th>\n",
       "      <th>Radio</th>\n",
       "      <th>Newspaper</th>\n",
       "      <th>Sales</th>\n",
       "    </tr>\n",
       "  </thead>\n",
       "  <tbody>\n",
       "    <tr>\n",
       "      <th>0</th>\n",
       "      <td>230.1</td>\n",
       "      <td>37.8</td>\n",
       "      <td>69.2</td>\n",
       "      <td>22.1</td>\n",
       "    </tr>\n",
       "    <tr>\n",
       "      <th>1</th>\n",
       "      <td>44.5</td>\n",
       "      <td>39.3</td>\n",
       "      <td>45.1</td>\n",
       "      <td>10.4</td>\n",
       "    </tr>\n",
       "    <tr>\n",
       "      <th>2</th>\n",
       "      <td>17.2</td>\n",
       "      <td>45.9</td>\n",
       "      <td>69.3</td>\n",
       "      <td>9.3</td>\n",
       "    </tr>\n",
       "    <tr>\n",
       "      <th>3</th>\n",
       "      <td>151.5</td>\n",
       "      <td>41.3</td>\n",
       "      <td>58.5</td>\n",
       "      <td>18.5</td>\n",
       "    </tr>\n",
       "    <tr>\n",
       "      <th>4</th>\n",
       "      <td>180.8</td>\n",
       "      <td>10.8</td>\n",
       "      <td>58.4</td>\n",
       "      <td>12.9</td>\n",
       "    </tr>\n",
       "  </tbody>\n",
       "</table>\n",
       "</div>"
      ],
      "text/plain": [
       "      TV  Radio  Newspaper  Sales\n",
       "0  230.1   37.8       69.2   22.1\n",
       "1   44.5   39.3       45.1   10.4\n",
       "2   17.2   45.9       69.3    9.3\n",
       "3  151.5   41.3       58.5   18.5\n",
       "4  180.8   10.8       58.4   12.9"
      ]
     },
     "execution_count": 35,
     "metadata": {},
     "output_type": "execute_result"
    }
   ],
   "source": [
    "# Hagámoslo de forma práctica, con un data set\n",
    "\n",
    "data_ads = pd.read_csv('/Users/fsanmartin/python-ml-course-master/datasets/ads/Advertising.csv')\n",
    "data_ads.head()"
   ]
  },
  {
   "cell_type": "code",
   "execution_count": 37,
   "metadata": {},
   "outputs": [
    {
     "data": {
      "text/html": [
       "<div>\n",
       "<style scoped>\n",
       "    .dataframe tbody tr th:only-of-type {\n",
       "        vertical-align: middle;\n",
       "    }\n",
       "\n",
       "    .dataframe tbody tr th {\n",
       "        vertical-align: top;\n",
       "    }\n",
       "\n",
       "    .dataframe thead th {\n",
       "        text-align: right;\n",
       "    }\n",
       "</style>\n",
       "<table border=\"1\" class=\"dataframe\">\n",
       "  <thead>\n",
       "    <tr style=\"text-align: right;\">\n",
       "      <th></th>\n",
       "      <th>TV</th>\n",
       "      <th>Radio</th>\n",
       "      <th>Newspaper</th>\n",
       "      <th>Sales</th>\n",
       "      <th>corrn</th>\n",
       "      <th>corrl</th>\n",
       "    </tr>\n",
       "  </thead>\n",
       "  <tbody>\n",
       "    <tr>\n",
       "      <th>0</th>\n",
       "      <td>230.1</td>\n",
       "      <td>37.8</td>\n",
       "      <td>69.2</td>\n",
       "      <td>22.1</td>\n",
       "      <td>670.896956</td>\n",
       "      <td>6898.548306</td>\n",
       "    </tr>\n",
       "    <tr>\n",
       "      <th>1</th>\n",
       "      <td>44.5</td>\n",
       "      <td>39.3</td>\n",
       "      <td>45.1</td>\n",
       "      <td>10.4</td>\n",
       "      <td>371.460206</td>\n",
       "      <td>10514.964306</td>\n",
       "    </tr>\n",
       "    <tr>\n",
       "      <th>2</th>\n",
       "      <td>17.2</td>\n",
       "      <td>45.9</td>\n",
       "      <td>69.3</td>\n",
       "      <td>9.3</td>\n",
       "      <td>613.181206</td>\n",
       "      <td>16859.074806</td>\n",
       "    </tr>\n",
       "    <tr>\n",
       "      <th>3</th>\n",
       "      <td>151.5</td>\n",
       "      <td>41.3</td>\n",
       "      <td>58.5</td>\n",
       "      <td>18.5</td>\n",
       "      <td>19.958456</td>\n",
       "      <td>19.869306</td>\n",
       "    </tr>\n",
       "    <tr>\n",
       "      <th>4</th>\n",
       "      <td>180.8</td>\n",
       "      <td>10.8</td>\n",
       "      <td>58.4</td>\n",
       "      <td>12.9</td>\n",
       "      <td>-37.892794</td>\n",
       "      <td>1139.568806</td>\n",
       "    </tr>\n",
       "  </tbody>\n",
       "</table>\n",
       "</div>"
      ],
      "text/plain": [
       "      TV  Radio  Newspaper  Sales       corrn         corrl\n",
       "0  230.1   37.8       69.2   22.1  670.896956   6898.548306\n",
       "1   44.5   39.3       45.1   10.4  371.460206  10514.964306\n",
       "2   17.2   45.9       69.3    9.3  613.181206  16859.074806\n",
       "3  151.5   41.3       58.5   18.5   19.958456     19.869306\n",
       "4  180.8   10.8       58.4   12.9  -37.892794   1139.568806"
      ]
     },
     "execution_count": 37,
     "metadata": {},
     "output_type": "execute_result"
    }
   ],
   "source": [
    "# Agregaremos una columna comenzando con un coeficiente de correlación entre \n",
    "# Los gastos por publicidad en TV con respecto a las ventas\n",
    "\n",
    "data_ads['corrn'] = (data_ads['TV'] - np.mean(data_ads['TV'])) * (data_ads['Sales'] - np.mean(data_ads['Sales']))\n",
    "data_ads['corrl'] = (data_ads['TV'] - np.mean(data_ads['TV']))**2\n",
    "\n",
    "data_ads.head()"
   ]
  },
  {
   "cell_type": "code",
   "execution_count": 38,
   "metadata": {},
   "outputs": [
    {
     "data": {
      "text/html": [
       "<div>\n",
       "<style scoped>\n",
       "    .dataframe tbody tr th:only-of-type {\n",
       "        vertical-align: middle;\n",
       "    }\n",
       "\n",
       "    .dataframe tbody tr th {\n",
       "        vertical-align: top;\n",
       "    }\n",
       "\n",
       "    .dataframe thead th {\n",
       "        text-align: right;\n",
       "    }\n",
       "</style>\n",
       "<table border=\"1\" class=\"dataframe\">\n",
       "  <thead>\n",
       "    <tr style=\"text-align: right;\">\n",
       "      <th></th>\n",
       "      <th>TV</th>\n",
       "      <th>Radio</th>\n",
       "      <th>Newspaper</th>\n",
       "      <th>Sales</th>\n",
       "      <th>corrn</th>\n",
       "      <th>corrl</th>\n",
       "      <th>corr2</th>\n",
       "    </tr>\n",
       "  </thead>\n",
       "  <tbody>\n",
       "    <tr>\n",
       "      <th>0</th>\n",
       "      <td>230.1</td>\n",
       "      <td>37.8</td>\n",
       "      <td>69.2</td>\n",
       "      <td>22.1</td>\n",
       "      <td>670.896956</td>\n",
       "      <td>6898.548306</td>\n",
       "      <td>65.246006</td>\n",
       "    </tr>\n",
       "    <tr>\n",
       "      <th>1</th>\n",
       "      <td>44.5</td>\n",
       "      <td>39.3</td>\n",
       "      <td>45.1</td>\n",
       "      <td>10.4</td>\n",
       "      <td>371.460206</td>\n",
       "      <td>10514.964306</td>\n",
       "      <td>13.122506</td>\n",
       "    </tr>\n",
       "    <tr>\n",
       "      <th>2</th>\n",
       "      <td>17.2</td>\n",
       "      <td>45.9</td>\n",
       "      <td>69.3</td>\n",
       "      <td>9.3</td>\n",
       "      <td>613.181206</td>\n",
       "      <td>16859.074806</td>\n",
       "      <td>22.302006</td>\n",
       "    </tr>\n",
       "    <tr>\n",
       "      <th>3</th>\n",
       "      <td>151.5</td>\n",
       "      <td>41.3</td>\n",
       "      <td>58.5</td>\n",
       "      <td>18.5</td>\n",
       "      <td>19.958456</td>\n",
       "      <td>19.869306</td>\n",
       "      <td>20.048006</td>\n",
       "    </tr>\n",
       "    <tr>\n",
       "      <th>4</th>\n",
       "      <td>180.8</td>\n",
       "      <td>10.8</td>\n",
       "      <td>58.4</td>\n",
       "      <td>12.9</td>\n",
       "      <td>-37.892794</td>\n",
       "      <td>1139.568806</td>\n",
       "      <td>1.260006</td>\n",
       "    </tr>\n",
       "  </tbody>\n",
       "</table>\n",
       "</div>"
      ],
      "text/plain": [
       "      TV  Radio  Newspaper  Sales       corrn         corrl      corr2\n",
       "0  230.1   37.8       69.2   22.1  670.896956   6898.548306  65.246006\n",
       "1   44.5   39.3       45.1   10.4  371.460206  10514.964306  13.122506\n",
       "2   17.2   45.9       69.3    9.3  613.181206  16859.074806  22.302006\n",
       "3  151.5   41.3       58.5   18.5   19.958456     19.869306  20.048006\n",
       "4  180.8   10.8       58.4   12.9  -37.892794   1139.568806   1.260006"
      ]
     },
     "execution_count": 38,
     "metadata": {},
     "output_type": "execute_result"
    }
   ],
   "source": [
    "data_ads['corr2'] = (data_ads['Sales'] - np.mean(data_ads['Sales']))**2\n",
    "data_ads.head()"
   ]
  },
  {
   "cell_type": "code",
   "execution_count": 39,
   "metadata": {},
   "outputs": [
    {
     "data": {
      "text/plain": [
       "0.782224424861606"
      ]
     },
     "execution_count": 39,
     "metadata": {},
     "output_type": "execute_result"
    }
   ],
   "source": [
    "corr_pearson = sum(data_ads['corrn']) / np.sqrt(sum(data_ads['corrl'])*sum(data_ads['corr2']))\n",
    "corr_pearson"
   ]
  },
  {
   "cell_type": "markdown",
   "metadata": {},
   "source": [
    "Y cómo ya saben, si esto hay que hacerlo muchas veces, mejor tener una función que lo realice"
   ]
  },
  {
   "cell_type": "code",
   "execution_count": 40,
   "metadata": {},
   "outputs": [],
   "source": [
    "def corr_coeff(df, var1, var2):\n",
    "    \n",
    "    df['corrn'] = (df[var1] - np.mean(df[var1])) * (df[var2] - np.mean(df[var2]))\n",
    "    \n",
    "    df['corrl'] = (df[var1] - np.mean(df[var1]))**2\n",
    "    \n",
    "    df['corr2'] = (df[var2] - np.mean(df[var2]))**2\n",
    "    \n",
    "    corr_p = sum(df['corrn']) / np.sqrt(sum(df['corrl'])*sum(df['corr2']))\n",
    "    \n",
    "    return corr_p"
   ]
  },
  {
   "cell_type": "code",
   "execution_count": 41,
   "metadata": {},
   "outputs": [
    {
     "name": "stdout",
     "output_type": "stream",
     "text": [
      "TV, TV : 1.0\n",
      "TV, Radio : 0.05480866446583009\n",
      "TV, Newspaper : 0.056647874965056993\n",
      "TV, Sales : 0.782224424861606\n",
      "Radio, TV : 0.05480866446583009\n",
      "Radio, Radio : 1.0\n",
      "Radio, Newspaper : 0.3541037507611752\n",
      "Radio, Sales : 0.5762225745710553\n",
      "Newspaper, TV : 0.056647874965056993\n",
      "Newspaper, Radio : 0.3541037507611752\n",
      "Newspaper, Newspaper : 1.0\n",
      "Newspaper, Sales : 0.22829902637616525\n",
      "Sales, TV : 0.782224424861606\n",
      "Sales, Radio : 0.5762225745710553\n",
      "Sales, Newspaper : 0.22829902637616525\n",
      "Sales, Sales : 1.0\n"
     ]
    }
   ],
   "source": [
    "df = pd.read_csv('/Users/fsanmartin/python-ml-course-master/datasets/ads/Advertising.csv')\n",
    "\n",
    "# Calculemos las correlaciones entre todas las variables\n",
    "\n",
    "cols = df.columns.values\n",
    "\n",
    "for x in cols:\n",
    "    for y in cols:\n",
    "        print(x + \", \"+ y + \" : \" + str(corr_coeff(df, x, y)))"
   ]
  },
  {
   "cell_type": "code",
   "execution_count": 46,
   "metadata": {},
   "outputs": [
    {
     "data": {
      "image/png": "[encoded data removed]",
      "text/plain": [
       "<Figure size 432x288 with 1 Axes>"
      ]
     },
     "metadata": {},
     "output_type": "display_data"
    }
   ],
   "source": [
    "# Hagamos una gráfica de nube de puntos entre las ventas y los gastos en anuncios en los medios\n",
    "\n",
    "import matplotlib.pyplot as plt\n",
    "\n",
    "plt.plot(df['TV'], df['Sales'], 'ro')\n",
    "plt.plot(df['Radio'], df['Sales'], 'go')\n",
    "plt.plot(df['Newspaper'], df['Sales'], 'bo')\n",
    "plt.title('Gastos en anuncios vs Ventas del producto');"
   ]
  },
  {
   "cell_type": "code",
   "execution_count": 48,
   "metadata": {},
   "outputs": [
    {
     "data": {
      "text/html": [
       "<div>\n",
       "<style scoped>\n",
       "    .dataframe tbody tr th:only-of-type {\n",
       "        vertical-align: middle;\n",
       "    }\n",
       "\n",
       "    .dataframe tbody tr th {\n",
       "        vertical-align: top;\n",
       "    }\n",
       "\n",
       "    .dataframe thead th {\n",
       "        text-align: right;\n",
       "    }\n",
       "</style>\n",
       "<table border=\"1\" class=\"dataframe\">\n",
       "  <thead>\n",
       "    <tr style=\"text-align: right;\">\n",
       "      <th></th>\n",
       "      <th>TV</th>\n",
       "      <th>Radio</th>\n",
       "      <th>Newspaper</th>\n",
       "      <th>Sales</th>\n",
       "    </tr>\n",
       "  </thead>\n",
       "  <tbody>\n",
       "    <tr>\n",
       "      <th>TV</th>\n",
       "      <td>1.000000</td>\n",
       "      <td>0.054809</td>\n",
       "      <td>0.056648</td>\n",
       "      <td>0.782224</td>\n",
       "    </tr>\n",
       "    <tr>\n",
       "      <th>Radio</th>\n",
       "      <td>0.054809</td>\n",
       "      <td>1.000000</td>\n",
       "      <td>0.354104</td>\n",
       "      <td>0.576223</td>\n",
       "    </tr>\n",
       "    <tr>\n",
       "      <th>Newspaper</th>\n",
       "      <td>0.056648</td>\n",
       "      <td>0.354104</td>\n",
       "      <td>1.000000</td>\n",
       "      <td>0.228299</td>\n",
       "    </tr>\n",
       "    <tr>\n",
       "      <th>Sales</th>\n",
       "      <td>0.782224</td>\n",
       "      <td>0.576223</td>\n",
       "      <td>0.228299</td>\n",
       "      <td>1.000000</td>\n",
       "    </tr>\n",
       "  </tbody>\n",
       "</table>\n",
       "</div>"
      ],
      "text/plain": [
       "                 TV     Radio  Newspaper     Sales\n",
       "TV         1.000000  0.054809   0.056648  0.782224\n",
       "Radio      0.054809  1.000000   0.354104  0.576223\n",
       "Newspaper  0.056648  0.354104   1.000000  0.228299\n",
       "Sales      0.782224  0.576223   0.228299  1.000000"
      ]
     },
     "execution_count": 48,
     "metadata": {},
     "output_type": "execute_result"
    }
   ],
   "source": [
    "## Pandas tiene un forma sencilla de realizar. volveremos a cargar el dataset\n",
    "\n",
    "df = pd.read_csv('/Users/fsanmartin/python-ml-course-master/datasets/ads/Advertising.csv')\n",
    "df.corr()"
   ]
  },
  {
   "cell_type": "code",
   "execution_count": 50,
   "metadata": {},
   "outputs": [
    {
     "data": {
      "text/plain": [
       "<matplotlib.image.AxesImage at 0x1e26b1f4fd0>"
      ]
     },
     "execution_count": 50,
     "metadata": {},
     "output_type": "execute_result"
    },
    {
     "data": {
      "image/png": "[encoded data removed]",
      "text/plain": [
       "<Figure size 288x288 with 1 Axes>"
      ]
     },
     "metadata": {},
     "output_type": "display_data"
    }
   ],
   "source": [
    "# Y una forma de representar esta matriz de correlación es:\n",
    "\n",
    "plt.matshow(df.corr()) # El color verde indica mayor correlación"
   ]
  },
  {
   "cell_type": "code",
   "execution_count": null,
   "metadata": {},
   "outputs": [],
   "source": []
  },
  {
   "cell_type": "code",
   "execution_count": null,
   "metadata": {},
   "outputs": [],
   "source": []
  },
  {
   "cell_type": "code",
   "execution_count": null,
   "metadata": {},
   "outputs": [],
   "source": []
  },
  {
   "cell_type": "code",
   "execution_count": null,
   "metadata": {},
   "outputs": [],
   "source": []
  }
 ],
 "metadata": {
  "kernelspec": {
   "display_name": "Python 3",
   "language": "python",
   "name": "python3"
  },
  "language_info": {
   "codemirror_mode": {
    "name": "ipython",
    "version": 3
   },
   "file_extension": ".py",
   "mimetype": "text/x-python",
   "name": "python",
   "nbconvert_exporter": "python",
   "pygments_lexer": "ipython3",
   "version": "3.7.3"
  }
 },
 "nbformat": 4,
 "nbformat_minor": 2
}
